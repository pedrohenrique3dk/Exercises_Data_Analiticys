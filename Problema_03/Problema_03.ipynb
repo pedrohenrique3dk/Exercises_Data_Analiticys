{
 "cells": [
  {
   "cell_type": "markdown",
   "metadata": {},
   "source": [
    "<img src=\"Problema_03.png\" width=900 heigth=500>"
   ]
  },
  {
   "cell_type": "code",
   "execution_count": 1,
   "metadata": {},
   "outputs": [],
   "source": [
    "import pandas as pd\n",
    "import matplotlib.pyplot as plt"
   ]
  },
  {
   "cell_type": "code",
   "execution_count": 2,
   "metadata": {},
   "outputs": [],
   "source": [
    "notas_alunos = {\n",
    "    \"Aluno A\": {\"Matemática\": 85, \"Física\": 90, \"Química\": 88},\n",
    "    \"Aluno B\": {\"Matemática\": 78, \"Física\": 85, \"Química\": 80},\n",
    "    \"Aluno C\": {\"Matemática\": 92, \"Física\": 88, \"Química\": 91},\n",
    "    \"Aluno D\": {\"Matemática\": 65, \"Física\": 75, \"Química\": 70},\n",
    "    \"Aluno E\": {\"Matemática\": 88, \"Física\": 92, \"Química\": 86}\n",
    "}"
   ]
  },
  {
   "cell_type": "markdown",
   "metadata": {},
   "source": [
    "### 1. Qual obteve a maior média geral entre as três matérias?"
   ]
  },
  {
   "cell_type": "code",
   "execution_count": null,
   "metadata": {},
   "outputs": [],
   "source": []
  },
  {
   "cell_type": "markdown",
   "metadata": {},
   "source": [
    "### 2. Em qual matéria a média de todos os alunos foi mais alta??\n"
   ]
  },
  {
   "cell_type": "code",
   "execution_count": null,
   "metadata": {},
   "outputs": [],
   "source": []
  },
  {
   "cell_type": "markdown",
   "metadata": {},
   "source": [
    "### 3. Qual foi a diferença entre a nota de Matemática do Aluno C e a do Aluno D??"
   ]
  }
 ],
 "metadata": {
  "kernelspec": {
   "display_name": "Python 3",
   "language": "python",
   "name": "python3"
  },
  "language_info": {
   "codemirror_mode": {
    "name": "ipython",
    "version": 3
   },
   "file_extension": ".py",
   "mimetype": "text/x-python",
   "name": "python",
   "nbconvert_exporter": "python",
   "pygments_lexer": "ipython3",
   "version": "3.12.0"
  }
 },
 "nbformat": 4,
 "nbformat_minor": 2
}
